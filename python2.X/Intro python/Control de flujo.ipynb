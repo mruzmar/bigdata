{
 "cells": [
  {
   "cell_type": "code",
   "execution_count": 1,
   "metadata": {},
   "outputs": [
    {
     "name": "stdout",
     "output_type": "stream",
     "text": [
      "1 sigue siendo menor que 0\n"
     ]
    }
   ],
   "source": [
    "if 1 < 0:\n",
    "    print(\"1 es menor que 0\")\n",
    "print(\"1 sigue siendo menor que 0\")  # Erróneo"
   ]
  },
  {
   "cell_type": "code",
   "execution_count": 2,
   "metadata": {},
   "outputs": [
    {
     "ename": "IndentationError",
     "evalue": "unexpected indent (<ipython-input-2-15a0111f71c6>, line 3)",
     "output_type": "error",
     "traceback": [
      "\u001b[0;36m  File \u001b[0;32m\"<ipython-input-2-15a0111f71c6>\"\u001b[0;36m, line \u001b[0;32m3\u001b[0m\n\u001b[0;31m    print(\"1 sigue siendo menor que 0\")\u001b[0m\n\u001b[0m    ^\u001b[0m\n\u001b[0;31mIndentationError\u001b[0m\u001b[0;31m:\u001b[0m unexpected indent\n"
     ]
    }
   ],
   "source": [
    "if 1 < 0:\n",
    "    print(\"1 es menor que 0\")\n",
    "     print(\"1 sigue siendo menor que 0\")"
   ]
  },
  {
   "cell_type": "code",
   "execution_count": 3,
   "metadata": {},
   "outputs": [
    {
     "name": "stdout",
     "output_type": "stream",
     "text": [
      "(1, 2)\n",
      "x es menor que y\n",
      "x sigue siendo menor que y\n"
     ]
    }
   ],
   "source": [
    "x, y = 1, 2\n",
    "\n",
    "#Estructuras de control, condicionales\n",
    "print(x, y)\n",
    "if x < y:\n",
    "    print(\"x es menor que y\")\n",
    "    print(\"x sigue siendo menor que y\") "
   ]
  },
  {
   "cell_type": "code",
   "execution_count": 4,
   "metadata": {},
   "outputs": [
    {
     "name": "stdout",
     "output_type": "stream",
     "text": [
      "(1, 2)\n",
      "x es menor que y\n"
     ]
    }
   ],
   "source": [
    "print(x, y)\n",
    "if x < y:\n",
    "    print(\"x es menor que y\")\n",
    "elif x == y:\n",
    "    print(\"x es igual a y\")\n",
    "else:\n",
    "    print(\"x no es ni menor ni igual que y\")"
   ]
  },
  {
   "cell_type": "code",
   "execution_count": 5,
   "metadata": {},
   "outputs": [
    {
     "name": "stdout",
     "output_type": "stream",
     "text": [
      "0\n",
      "1\n",
      "2\n",
      "3\n",
      "4\n"
     ]
    }
   ],
   "source": [
    "# Estructura de control, bucles\n",
    "\n",
    "ii = 0\n",
    "while ii < 5:\n",
    "    print(ii)\n",
    "    ii += 1"
   ]
  },
  {
   "cell_type": "code",
   "execution_count": 6,
   "metadata": {},
   "outputs": [
    {
     "name": "stdout",
     "output_type": "stream",
     "text": [
      "0\n",
      "1\n",
      "2\n"
     ]
    }
   ],
   "source": [
    "ii = 0\n",
    "while ii < 5:\n",
    "    print(ii)\n",
    "    ii += 1\n",
    "    if ii == 3:\n",
    "        break"
   ]
  },
  {
   "cell_type": "code",
   "execution_count": 8,
   "metadata": {},
   "outputs": [
    {
     "name": "stdout",
     "output_type": "stream",
     "text": [
      "0\n",
      "El bucle ha terminado\n",
      "1\n",
      "El bucle ha terminado\n",
      "2\n"
     ]
    }
   ],
   "source": [
    "ii = 0\n",
    "while ii < 5:\n",
    "    print(ii)\n",
    "    ii += 1\n",
    "    if ii == 3: \n",
    "        break\n",
    "    else:\n",
    "        print(\"El bucle ha terminado\")"
   ]
  },
  {
   "cell_type": "code",
   "execution_count": 9,
   "metadata": {},
   "outputs": [
    {
     "name": "stdout",
     "output_type": "stream",
     "text": [
      "1\n",
      "2\n",
      "4\n"
     ]
    }
   ],
   "source": [
    "for ii in 1, 2, 4:\n",
    "    print(ii)"
   ]
  },
  {
   "cell_type": "code",
   "execution_count": 10,
   "metadata": {},
   "outputs": [
    {
     "name": "stdout",
     "output_type": "stream",
     "text": [
      "0\n",
      "1\n",
      "2\n"
     ]
    }
   ],
   "source": [
    "for ii in range(3):\n",
    "    print(ii)"
   ]
  },
  {
   "cell_type": "code",
   "execution_count": 11,
   "metadata": {},
   "outputs": [
    {
     "name": "stdout",
     "output_type": "stream",
     "text": [
      "2\n",
      "3\n",
      "4\n"
     ]
    }
   ],
   "source": [
    "for jj in range(2, 5):\n",
    "    print(jj)"
   ]
  },
  {
   "cell_type": "code",
   "execution_count": 12,
   "metadata": {},
   "outputs": [
    {
     "name": "stdout",
     "output_type": "stream",
     "text": [
      "['blue', 'black', 'white']\n"
     ]
    }
   ],
   "source": [
    "colours = [\"blue\"]\n",
    "for i in colours:\n",
    "    if i == \"blue\":\n",
    "        colours += [\"black\"]\n",
    "    if i == \"black\":\n",
    "        colours += [\"white\"]\n",
    "print(colours)"
   ]
  },
  {
   "cell_type": "code",
   "execution_count": null,
   "metadata": {},
   "outputs": [],
   "source": []
  }
 ],
 "metadata": {
  "kernelspec": {
   "display_name": "Python 2",
   "language": "python",
   "name": "python2"
  },
  "language_info": {
   "codemirror_mode": {
    "name": "ipython",
    "version": 2
   },
   "file_extension": ".py",
   "mimetype": "text/x-python",
   "name": "python",
   "nbconvert_exporter": "python",
   "pygments_lexer": "ipython2",
   "version": "2.7.12"
  }
 },
 "nbformat": 4,
 "nbformat_minor": 2
}
