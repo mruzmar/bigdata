{
 "cells": [
  {
   "cell_type": "markdown",
   "metadata": {},
   "source": [
    "# Ejemplos variables python"
   ]
  },
  {
   "cell_type": "code",
   "execution_count": 6,
   "metadata": {},
   "outputs": [
    {
     "name": "stdout",
     "output_type": "stream",
     "text": [
      "100\n"
     ]
    }
   ],
   "source": [
    "counter = 100          # Variable entero\n",
    "\n",
    "print counter\n"
   ]
  },
  {
   "cell_type": "code",
   "execution_count": 8,
   "metadata": {},
   "outputs": [
    {
     "name": "stdout",
     "output_type": "stream",
     "text": [
      "50.8\n"
     ]
    }
   ],
   "source": [
    "kilometros   = 50.800       # float\n",
    "\n",
    "print kilometros"
   ]
  },
  {
   "cell_type": "code",
   "execution_count": 9,
   "metadata": {},
   "outputs": [
    {
     "name": "stdout",
     "output_type": "stream",
     "text": [
      "Alumnos\n"
     ]
    }
   ],
   "source": [
    "\n",
    "nombre    = \"Alumnos\"       # string\n",
    "\n",
    "print nombre\n"
   ]
  },
  {
   "cell_type": "code",
   "execution_count": 11,
   "metadata": {},
   "outputs": [
    {
     "name": "stdout",
     "output_type": "stream",
     "text": [
      "Hola Mundo!\n",
      "H\n",
      "la \n",
      "la Mundo!\n",
      "Hola Mundo!Hola Mundo!\n",
      "Hola Mundo!concatena\n"
     ]
    }
   ],
   "source": [
    "str = 'Hola Mundo!'\n",
    "\n",
    "print str          # Imprime la cadena\n",
    "print str[0]       # Imprime el primer caracter\n",
    "print str[2:5]     # Imprime caracteres 3 al 5\n",
    "print str[2:]      # Imprime desde caracter 3\n",
    "print str * 2      # Imprime dos veces la cadena\n",
    "print str + \"concatena\" # Concatena"
   ]
  },
  {
   "cell_type": "code",
   "execution_count": 13,
   "metadata": {},
   "outputs": [
    {
     "name": "stdout",
     "output_type": "stream",
     "text": [
      "€\n"
     ]
    }
   ],
   "source": [
    "# -*- coding: iso-8859-15 -*-\n",
    "\n",
    "moneda = u\"€\"\n",
    "print (moneda)"
   ]
  },
  {
   "cell_type": "code",
   "execution_count": null,
   "metadata": {},
   "outputs": [],
   "source": []
  }
 ],
 "metadata": {
  "kernelspec": {
   "display_name": "Python 2",
   "language": "python",
   "name": "python2"
  },
  "language_info": {
   "codemirror_mode": {
    "name": "ipython",
    "version": 2
   },
   "file_extension": ".py",
   "mimetype": "text/x-python",
   "name": "python",
   "nbconvert_exporter": "python",
   "pygments_lexer": "ipython2",
   "version": "2.7.12"
  }
 },
 "nbformat": 4,
 "nbformat_minor": 2
}
