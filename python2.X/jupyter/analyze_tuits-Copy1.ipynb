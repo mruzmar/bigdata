{
 "cells": [
  {
   "cell_type": "code",
   "execution_count": 29,
   "metadata": {
    "scrolled": true
   },
   "outputs": [
    {
     "name": "stdout",
     "output_type": "stream",
     "text": [
      "What subject do you want to analyze for this example? \n",
      "realmadrid\n",
      "How many Tweets do you want to analyze? \n",
      "20\n",
      "--- Gathered Tweets \n",
      "\n",
      "--- Opened a CSV file to store the results of your sentiment analysis... \n",
      "\n",
      "Analyzed Tweet 1\n",
      "Analyzed Tweet 2\n",
      "Analyzed Tweet 3\n",
      "Analyzed Tweet 4\n",
      "Analyzed Tweet 5\n",
      "Analyzed Tweet 6\n",
      "Analyzed Tweet 7\n",
      "Analyzed Tweet 8\n",
      "Analyzed Tweet 9\n",
      "Analyzed Tweet 10\n",
      "Analyzed Tweet 11\n",
      "Analyzed Tweet 12\n",
      "Analyzed Tweet 13\n",
      "Analyzed Tweet 14\n",
      "Analyzed Tweet 15\n",
      "Analyzed Tweet 16\n",
      "Analyzed Tweet 17\n",
      "Analyzed Tweet 18\n",
      "Analyzed Tweet 19\n",
      "Analyzed Tweet 20\n"
     ]
    }
   ],
   "source": [
    "import sys\n",
    "import csv\n",
    "import tweepy\n",
    "import matplotlib.pyplot as plt\n",
    "\n",
    "from collections import Counter\n",
    "# Necesario registro en https://developer.aylien.com/signup\n",
    "#pip install --upgrade aylien-apiclient\n",
    "from aylienapiclient import textapi\n",
    "\n",
    "if sys.version_info[0] < 3:\n",
    "   input = raw_input\n",
    "\n",
    "## Twitter credentials\n",
    "access_token = \"15002884-QxpvkW1jNTQ3YpO9Vn4yW9Cx8n7UyvwdVzVkrmMbw\"\n",
    "access_token_secret = \"eaFWhbH2Mn1trxlYoKlLZsk3nzkk4wsiaFTyIkDbLEYob\"\n",
    "consumer_key = \"C1voYrjnzAcwjRU1k8SmL72vK\"\n",
    "consumer_secret = \"Uvk3ljIL8duuLM7XxLXrlXBBEkHDl040dxgJox8p9pdJVcxRjh\"\n",
    "\n",
    "## AYLIEN credentials\n",
    "\n",
    "\n",
    "application_id = \"75c8b832\"\n",
    "application_key = \"2d22662b83c6e54293b45f39d73651ca\"\n",
    "\n",
    "## set up an instance of Tweepy\n",
    "auth = tweepy.OAuthHandler(consumer_key, consumer_secret)\n",
    "auth.set_access_token(access_token, access_token_secret)\n",
    "api = tweepy.API(auth)\n",
    "\n",
    "## set up an instance of the AYLIEN Text API\n",
    "client = textapi.Client(application_id, application_key)\n",
    "\n",
    "## search Twitter for something that interests you\n",
    "query = input(\"What subject do you want to analyze for this example? \\n\")\n",
    "number = input(\"How many Tweets do you want to analyze? \\n\")\n",
    "\n",
    "results = api.search(\n",
    "   lang=\"es\", # Idioma español\n",
    "   q=query + \" -rt\",\n",
    "   count=number,\n",
    "   result_type=\"recent\"\n",
    ")\n",
    "\n",
    "print(\"--- Gathered Tweets \\n\")\n",
    "\n",
    "## open a csv file to store the Tweets and their sentiment \n",
    "file_name = 'Sentiment_Analysis_of_{}_Tweets_About_{}.csv'.format(number, query)\n",
    "\n",
    "with open(file_name, 'ab') as csvfile:\n",
    "   csv_writer = csv.DictWriter(\n",
    "       f=csvfile,\n",
    "       fieldnames=[\"Tweet\", \"Sentiment\"]\n",
    "   )\n",
    "   csv_writer.writeheader()\n",
    "\n",
    "   print(\"--- Opened a CSV file to store the results of your sentiment analysis... \\n\")\n",
    "\n",
    "## tidy up the Tweets and send each to the AYLIEN Text API\n",
    "   for c, result in enumerate(results, start=1):\n",
    "       tweet = result.text\n",
    "       tidy_tweet = tweet.strip().encode('ascii', 'ignore')\n",
    "\n",
    "       if len(tweet) == 0:\n",
    "           print('Empty Tweet')\n",
    "           continue\n",
    "\n",
    "       response = client.Sentiment({'text': tidy_tweet})\n",
    "       csv_writer.writerow({\n",
    "           'Tweet': response['text'],\n",
    "           'Sentiment': response['polarity']\n",
    "       })\n",
    "\n",
    "       print(\"Analyzed Tweet {}\".format(c))\n",
    "\n"
   ]
  },
  {
   "cell_type": "code",
   "execution_count": 30,
   "metadata": {},
   "outputs": [
    {
     "data": {
      "image/png": "[encoded data removed]",
      "text/plain": [
       "<matplotlib.figure.Figure at 0x7f29b9a7ac50>"
      ]
     },
     "metadata": {},
     "output_type": "display_data"
    }
   ],
   "source": [
    "## count the data in the Sentiment column of the CSV file \n",
    "with open(file_name, 'r') as data:\n",
    "   counter = Counter()\n",
    "   for row in csv.DictReader(data):\n",
    "       counter[row['Sentiment']] += 1\n",
    "\n",
    "   positive = counter['positive']\n",
    "   negative = counter['negative']\n",
    "   neutral = counter['neutral']\n",
    "\n",
    "## declare the variables for the pie chart, using the Counter variables for \"sizes\"\n",
    "colors = ['green', 'red', 'grey']\n",
    "sizes = [positive, negative, neutral]\n",
    "labels = 'Positive', 'Negative', 'Neutral'\n",
    "\n",
    "## use matplotlib to plot the chart\n",
    "plt.pie(\n",
    "   x=sizes,\n",
    "   shadow=True,\n",
    "   colors=colors,\n",
    "   labels=labels,\n",
    "   startangle=90\n",
    ")\n",
    "\n",
    "plt.title(\"Sentiment of {} Tweets about {}\".format(number, query))\n",
    "plt.show()"
   ]
  },
  {
   "cell_type": "code",
   "execution_count": null,
   "metadata": {},
   "outputs": [],
   "source": []
  }
 ],
 "metadata": {
  "kernelspec": {
   "display_name": "Python 2",
   "language": "python",
   "name": "python2"
  },
  "language_info": {
   "codemirror_mode": {
    "name": "ipython",
    "version": 2
   },
   "file_extension": ".py",
   "mimetype": "text/x-python",
   "name": "python",
   "nbconvert_exporter": "python",
   "pygments_lexer": "ipython2",
   "version": "2.7.12"
  }
 },
 "nbformat": 4,
 "nbformat_minor": 2
}
