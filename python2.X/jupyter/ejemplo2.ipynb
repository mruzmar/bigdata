{
 "cells": [
  {
   "cell_type": "code",
   "execution_count": null,
   "metadata": {},
   "outputs": [],
   "source": [
    "#Creación de variable que introduce el usuario\n",
    "var = input(\"Introduzca un numero  : \")\n",
    "Var_Numero= int(var)\n",
    "# si el modulo de 2 es igual a 0 imprime par\n",
    "if Var_Numero%2 == 0:\n",
    "    print (\"Este numero es par\")\n",
    "#sino imprimir es impar\n",
    "else:\n",
    "    print (\"Este numero es impar\")"
   ]
  },
  {
   "cell_type": "code",
   "execution_count": null,
   "metadata": {},
   "outputs": [],
   "source": [
    "print(\"El valor introducido es \",var)"
   ]
  },
  {
   "cell_type": "code",
   "execution_count": 15,
   "metadata": {},
   "outputs": [
    {
     "name": "stdout",
     "output_type": "stream",
     "text": [
      "1\n",
      "2\n",
      "3\n",
      "4\n",
      "5\n",
      "6\n",
      "7\n",
      "8\n",
      "9\n",
      "10\n",
      "11\n",
      "12\n",
      "13\n",
      "14\n",
      "15\n",
      "16\n",
      "17\n",
      "18\n",
      "19\n",
      "20\n",
      "21\n",
      "22\n",
      "23\n",
      "24\n",
      "25\n"
     ]
    }
   ],
   "source": [
    "###Programa que imprima los 25 primeros números naturales\n",
    "#Creo la variable n con valor 1\n",
    "n = 1\n",
    "#Mientras en sea menor o igual que 25\n",
    "while n <= 25: \n",
    "    #Imprimo n\n",
    "    print (str(n))\n",
    "    #y le voy sumando 1.\n",
    "    n += 1"
   ]
  },
  {
   "cell_type": "code",
   "execution_count": null,
   "metadata": {},
   "outputs": [],
   "source": [
    "numero = int(input(\"Escriba un número positivo: \"))\n",
    "#Mientras el número sea menor a 0\n",
    "while numero < 0:\n",
    "    print(\"¡Ha escrito un número negativo! Inténtelo de nuevo\")\n",
    "    numero = int(input(\"Escriba un número positivo: \"))\n",
    "\n",
    "print(\"Gracias y fin de programa\")"
   ]
  },
  {
   "cell_type": "code",
   "execution_count": null,
   "metadata": {},
   "outputs": [],
   "source": []
  }
 ],
 "metadata": {
  "kernelspec": {
   "display_name": "Python 2",
   "language": "python",
   "name": "python2"
  },
  "language_info": {
   "codemirror_mode": {
    "name": "ipython",
    "version": 2
   },
   "file_extension": ".py",
   "mimetype": "text/x-python",
   "name": "python",
   "nbconvert_exporter": "python",
   "pygments_lexer": "ipython2",
   "version": "2.7.12"
  }
 },
 "nbformat": 4,
 "nbformat_minor": 2
}
