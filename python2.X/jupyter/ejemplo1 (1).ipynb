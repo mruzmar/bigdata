{
 "cells": [
  {
   "cell_type": "code",
   "execution_count": 11,
   "metadata": {},
   "outputs": [
    {
     "name": "stdout",
     "output_type": "stream",
     "text": [
      "6\n",
      "4\n",
      "['blue']\n",
      "['blue', 'black', 'white']\n",
      "0\n",
      "1\n",
      "2\n",
      "1\n",
      "2\n",
      "4\n",
      "i no es igual a 1\n",
      "El resultado de la ejecución se mostrará debajo de la celda\n"
     ]
    }
   ],
   "source": [
    "def suma(x,y):\n",
    "    return x+y\n",
    "\n",
    "print suma(4,2)\n",
    "print suma(1,3)\n",
    "\n",
    "colours = [\"blue\"]\n",
    "print (colours)\n",
    "for i in colours:\n",
    "    if i == \"blue\":\n",
    "        colours += [\"black\"]\n",
    "    if i == \"black\":\n",
    "        colours += [\"white\"]\n",
    "print(colours)\n",
    "\n",
    "\n",
    "\n",
    "for ii in range(3):\n",
    "    print(ii)\n",
    "for ii in 1, 2, 4:\n",
    "    print(ii)\n",
    "i=2\n",
    "if(i==1):\n",
    "    print \"i es igual a 1\"\n",
    "else:\n",
    "    print(\"i no es igual a 1\")\n",
    "print(\"El resultado de la ejecución se mostrará debajo de la celda\")"
   ]
  },
  {
   "cell_type": "code",
   "execution_count": 3,
   "metadata": {},
   "outputs": [
    {
     "name": "stdout",
     "output_type": "stream",
     "text": [
      "Ejecuta de nuevo el print y ahora utilizaremos variables al mismo tiempo\n",
      "('El resultado es ', 5)\n"
     ]
    }
   ],
   "source": [
    "print(\"Ejecuta de nuevo el print y ahora utilizaremos variables al mismo tiempo\")\n",
    "a = 1+4\n",
    "print (\"El resultado es \",a)\n"
   ]
  },
  {
   "cell_type": "code",
   "execution_count": 8,
   "metadata": {},
   "outputs": [
    {
     "ename": "ImportError",
     "evalue": "cannot import name cbook",
     "output_type": "error",
     "traceback": [
      "\u001b[0;31m---------------------------------------------------------------------------\u001b[0m",
      "\u001b[0;31mImportError\u001b[0m                               Traceback (most recent call last)",
      "\u001b[0;32m<ipython-input-8-b13227141d2a>\u001b[0m in \u001b[0;36m<module>\u001b[0;34m()\u001b[0m\n\u001b[1;32m      1\u001b[0m \u001b[0;31m#El gráfico se representa en la misma libreta con la siguiente instrucción\u001b[0m\u001b[0;34m\u001b[0m\u001b[0;34m\u001b[0m\u001b[0m\n\u001b[1;32m      2\u001b[0m \u001b[0;31m#%matplotlib inline\u001b[0m\u001b[0;34m\u001b[0m\u001b[0;34m\u001b[0m\u001b[0m\n\u001b[0;32m----> 3\u001b[0;31m \u001b[0;32mimport\u001b[0m \u001b[0mmatplotlib\u001b[0m\u001b[0;34m.\u001b[0m\u001b[0mpyplot\u001b[0m \u001b[0;32mas\u001b[0m \u001b[0mplt\u001b[0m\u001b[0;34m\u001b[0m\u001b[0m\n\u001b[0m\u001b[1;32m      4\u001b[0m \u001b[0;31m#import numpy as np\u001b[0m\u001b[0;34m\u001b[0m\u001b[0;34m\u001b[0m\u001b[0m\n\u001b[1;32m      5\u001b[0m \u001b[0;34m\u001b[0m\u001b[0m\n",
      "\u001b[0;32m/usr/local/lib/python2.7/dist-packages/matplotlib/__init__.py\u001b[0m in \u001b[0;36m<module>\u001b[0;34m()\u001b[0m\n\u001b[1;32m    122\u001b[0m \u001b[0;31m# cbook must import matplotlib only within function\u001b[0m\u001b[0;34m\u001b[0m\u001b[0;34m\u001b[0m\u001b[0m\n\u001b[1;32m    123\u001b[0m \u001b[0;31m# definitions, so it is safe to import from it here.\u001b[0m\u001b[0;34m\u001b[0m\u001b[0;34m\u001b[0m\u001b[0m\n\u001b[0;32m--> 124\u001b[0;31m \u001b[0;32mfrom\u001b[0m \u001b[0;34m.\u001b[0m \u001b[0;32mimport\u001b[0m \u001b[0mcbook\u001b[0m\u001b[0;34m\u001b[0m\u001b[0m\n\u001b[0m\u001b[1;32m    125\u001b[0m from matplotlib.cbook import (\n\u001b[1;32m    126\u001b[0m     _backports, mplDeprecation, dedent, get_label, sanitize_sequence)\n",
      "\u001b[0;31mImportError\u001b[0m: cannot import name cbook"
     ]
    }
   ],
   "source": [
    "#El gráfico se representa en la misma libreta con la siguiente instrucción\n",
    "#%matplotlib inline\n",
    "import matplotlib.pyplot as plt\n",
    "#import numpy as np\n",
    "\n",
    "#x = np.arange(0,20*np.pi,0.2)\n",
    "#y = np.sin(x)\n",
    "#plt.plot(x,y)\n",
    "#p3lt.show()"
   ]
  },
  {
   "cell_type": "code",
   "execution_count": 9,
   "metadata": {},
   "outputs": [
    {
     "name": "stdout",
     "output_type": "stream",
     "text": [
      "0 segundos\n",
      "1 segundos\n",
      "2 segundos\n",
      "3 segundos\n",
      "4 segundos\n"
     ]
    }
   ],
   "source": [
    "# Trabajo con tiempos\n",
    "from time import sleep\n",
    "\n",
    "for i in range(10):\n",
    "    print(str(i)+' segundos')\n",
    "    sleep(1)"
   ]
  },
  {
   "cell_type": "code",
   "execution_count": null,
   "metadata": {
    "collapsed": true
   },
   "outputs": [],
   "source": []
  }
 ],
 "metadata": {
  "kernelspec": {
   "display_name": "Python 2",
   "language": "python",
   "name": "python2"
  },
  "language_info": {
   "codemirror_mode": {
    "name": "ipython",
    "version": 2
   },
   "file_extension": ".py",
   "mimetype": "text/x-python",
   "name": "python",
   "nbconvert_exporter": "python",
   "pygments_lexer": "ipython2",
   "version": "2.7.12"
  }
 },
 "nbformat": 4,
 "nbformat_minor": 2
}
