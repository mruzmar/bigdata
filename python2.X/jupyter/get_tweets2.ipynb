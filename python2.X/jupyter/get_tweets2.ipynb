{
 "cells": [
  {
   "cell_type": "code",
   "execution_count": 17,
   "metadata": {},
   "outputs": [],
   "source": [
    "import tweepy"
   ]
  },
  {
   "cell_type": "code",
   "execution_count": 18,
   "metadata": {},
   "outputs": [],
   "source": [
    "#Variables that contains the user credentials to access Twitter API \n",
    "access_token = \"15002884-QxpvkW1jNTQ3YpO9Vn4yW9Cx8n7UyvwdVzVkrmMbw\"\n",
    "access_token_secret = \"eaFWhbH2Mn1trxlYoKlLZsk3nzkk4wsiaFTyIkDbLEYob\"\n",
    "consumer_key = \"C1voYrjnzAcwjRU1k8SmL72vK\"\n",
    "consumer_secret = \"Uvk3ljIL8duuLM7XxLXrlXBBEkHDl040dxgJox8p9pdJVcxRjh\""
   ]
  },
  {
   "cell_type": "code",
   "execution_count": 19,
   "metadata": {},
   "outputs": [],
   "source": [
    "# Creating the authentication object\n",
    "auth = tweepy.OAuthHandler(consumer_key, consumer_secret)\n",
    "# Setting your access token and secret\n",
    "auth.set_access_token(access_token, access_token_secret)\n",
    "# Creating the API object while passing in auth information\n",
    "api = tweepy.API(auth)"
   ]
  },
  {
   "cell_type": "code",
   "execution_count": 20,
   "metadata": {},
   "outputs": [
    {
     "name": "stdout",
     "output_type": "stream",
     "text": [
      "PodemosRetiro Tweeted: Podemos propone una Ley de familias monoparentales para Madrid https://t.co/cguNKZaMco vía @diario_16\n",
      "ingridvillalba_ Tweeted: RT @DiarioOle: Los hinchas europeos son fríos, dicen algunos... Así viajaron al #Bernabeu los hinchas del #PSG en peno subte de Madrid http…\n",
      "AandresRMCF Tweeted: RT @atooca: Empieza la campaña de desprestigio al equipo que hoy iba a ganar 0-5 en el Bernabéu e iba a destrozar al Madrid. Nunca decepcio…\n",
      "realmadridtves Tweeted: Real Madrid 3-1 PSG | Declaración de amor eterno de Roncero tras ganar a... https://t.co/rMSi3dGgHw vía @YouTube\n",
      "Innovacentros Tweeted: ¡RECORDATORIO! 📬 #Correos ha  convocado 4.214 plazas para 2018. Si aun no lo sabías, este es tu momento para inform… https://t.co/cjgRsWxoe9\n",
      "Lis9Torres Tweeted: RT @GUTY14HAZ: Grande Zidane , Grande @Cristiano , Grande todo el equipo y Grande el Bernabéu 👏👏👏👏.VAMOS REAL MADRID.\n",
      "SergioViidal Tweeted: RT @JORDI_ANJAUMA: Neymar abandonó el Barça como un judas, lo denunció, si nada lo remedia quedará eliminado con el Psg por el Madrid (ojal…\n",
      "vicntjose Tweeted: RT @realmadrid: 🔝⚽😘 @Cristiano\n",
      "¡101 goles en #RMUCL con el Real Madrid y sumando! https://t.co/ZHWgXJeyCb\n",
      "HJRM7 Tweeted: RT @cristobalsoria: En París ya saben como se las gastan los del real de madrid...y tienen que preparar en la vuelta la encerrona deportiva…\n",
      "rayxenda Tweeted: RT @sinideario: @ApmuPM @policiademadrid @javierbarberog @ManuelaCarmena La ciudad de los cuidados menos para Policía Municipal de Madrid.…\n",
      "2005montserrat Tweeted: RT @publico_es: El presidente del PSOE madrileño plantea una moción de censura contra Cifuentes\n",
      "https://t.co/41QmY5AbE9\n",
      "alealtrejo Tweeted: RT @TAMARA_SUJU: Zapatero mediador Imparcial?  Solo miren con quienes y por quien aboga el 21 de Febrero en Madrid.  Que espera la @unidadv…\n",
      "VIAJESKAYAMBE Tweeted: Escapadas románticas a tiro de piedra del centro de #Madrid. ¡Porque los barrios de la capital tienen... https://t.co/CWbPlUuK3x\n",
      "RoMemoria Tweeted: #Posguerra: Testimonio de una época aciaga en la #historia de #España. Sur de #Madrid, 1954? https://t.co/cmJn6Gk23q https://t.co/dv03YG4iVA\n",
      "lucas_villarino Tweeted: RT @Juezcentral: Más de 10 años como lateral titular del Real Madrid. Más de 10 años siendo determinante. Marcelo Vieira Da Silva Junior. h…\n"
     ]
    }
   ],
   "source": [
    "\n",
    "# Creating the API object while passing in auth information\n",
    "api = tweepy.API(auth)\n",
    "\n",
    "# The search term you want to find\n",
    "query = \"madrid\"\n",
    "# Language code (follows ISO 639-1 standards)\n",
    "language = \"es\"\n",
    "\n",
    "# Calling the user_timeline function with our parameters\n",
    "results = api.search(q=query, lang=language)\n",
    "\n",
    "# foreach through all tweets pulled\n",
    "for tweet in results:\n",
    "   # printing the text stored inside the tweet object\n",
    "   print tweet.user.screen_name,\"Tweeted:\",tweet.text"
   ]
  },
  {
   "cell_type": "code",
   "execution_count": 21,
   "metadata": {},
   "outputs": [
    {
     "name": "stdout",
     "output_type": "stream",
     "text": [
      "El Anteproyecto de #Ley de Secretos Empresariales garantiza una mayor seguridad a la empresas europeas, en lo que s… https://t.co/pyA4CXd19A\n",
      "Azora, la gestora española que sedujo a George Soros, explora su salida a bolsa https://t.co/SbngfcHnCG https://t.co/mGDbu4H1MP\n",
      "Puedes alquilar el lanzallamas más grande del mundo por 90 millones de dólares https://t.co/ntCdxJahqv https://t.co/gKWrUkgnen\n",
      "La desconexión del trabajo no depende de la tecnología, sino del propio trabajador: Vivimos en un mundo donde las c… https://t.co/fnG3X3cma3\n",
      "¿Por qué abrir una franquicia de Lizarran? 30 años de historia, 250 locales en 15 paises y 25 millones de clientes https://t.co/1MP5kKheKu\n",
      "Bashar Al-Ásad: \"El olor a la tercera guerra mundial puede olfatearse en el aire\" https://t.co/ZBaIE8LDjs https://t.co/yvUJsb7e5O\n",
      "La desconexión del trabajo no depende de la tecnología, sino del propio trabajador  https://t.co/tCLRiX3g2u\n",
      "RT @smartchannel: @jrmelara Felicidades! Eres el nº 8 en el ranking #Top100CanalTI publicado por @SmartChannel ➜ https://t.co/nc15Ohbwj0\n",
      "Tidal y @vodafone_es lanzan una oferta del servicio de streaming en exclusiva para España. Estas son las tarifas de… https://t.co/XgJdD6v73O\n",
      "Conmemoramos el Día Internacional contra el #CáncerInfantil, con el fin de sensibilizar y concienciar sobre la impo… https://t.co/fJtSo0K2hc\n",
      "Actualización: Huawei contesta al Gobierno de Estados Unidos tras el ataque a la marca por parte de la CIA, el FBI… https://t.co/A7msiuC7Ii\n",
      "RT @horusgestion: Una sociedad sin competencias digitales avanzadas, un reto para España // #transformacióndigital // #digitalización // #c…\n",
      "La ética es un lujo en el mundo influencer: Bolli denuncia en Twitter la cobra que le hizo una marca… https://t.co/RfZnoT90ry\n",
      "El negocio de la sanidad privada crece gracias al deterioro del sistema público https://t.co/MgLVoZ7iML vía @eldiarioes\n",
      "La filial española de Oxfam amonestó en cinco años a cuatro empleados por conducta sexual inapropiada… https://t.co/c7YVmkUv7F\n",
      "RT @wabogado_qa: Roque Monllor recibe la Cruz al Mérito en el Servicio de la Abogacía https://t.co/POQIK6lE3f\n",
      "14 países respaldan el veto al mandatario venezolano en la Cumbre de las Américas que se celebrará en Perú en abril https://t.co/xAp6j6SlEV\n",
      "El supermercado del futuro será rápido y conectado https://t.co/H98TYI3ISo https://t.co/utMMKjBzv6\n",
      "RT @ONTSI: #DerechosDigitales Síguiendo por streaming la jornada \"El fenómeno de la desinformación en la era digital\" desde https://t.co/rG…\n",
      "\"La revolución digital es muy rápida y no estamos preparados, ese es nuestro principal desafío\", @BernieHernie (… https://t.co/RhSoWluhEM\n"
     ]
    }
   ],
   "source": [
    "# Using the API object to get tweets from your timeline, and storing it in a variable called public_tweets\n",
    "public_tweets = api.home_timeline()\n",
    "# foreach through all tweets pulled\n",
    "for tweet in public_tweets:\n",
    "   # printing the text stored inside the tweet object\n",
    "   print tweet.text"
   ]
  },
  {
   "cell_type": "code",
   "execution_count": 24,
   "metadata": {},
   "outputs": [
    {
     "name": "stdout",
     "output_type": "stream",
     "text": [
      "⭐⚽🎙 @Cristiano: \"Así es la Champions y el Real Madrid tiene la experiencia de que los partidos duran 90 minutos y e… https://t.co/Kvwh78otAu\n",
      "☀ ¡Buenos días, madridistas! \n",
      "#APorLa13 https://t.co/kZdsmjEkpv\n",
      "@SergioRamos 📰 ¡Entérate de las declaraciones de @SergioRamos y @nachofi1990! ¡AQUÍ! 👇 \n",
      "\n",
      "https://t.co/47lGWmasha\n",
      "@PSG_espanol 📰 ¡Haz clic en el enlace para saber qué dijo Zidane en la rueda de prensa del Santiago Bernabéu! 👇\n",
      "\n",
      "https://t.co/4OrLijAfuv\n",
      "🔝⚽😘 @Cristiano\n",
      "¡101 goles en #RMUCL con el Real Madrid y sumando! https://t.co/ZHWgXJeyCb\n",
      "🎙🗨 ¡El análisis de @SergioRamos en zona mixta!  \n",
      "#RMUCL https://t.co/rxQYOgLm8c\n",
      "🎙🗨 Zidane respondió a la preguntas de #RMTV en zona mixta tras la victoria frente a @PSG_espanol.\n",
      "#APorLa13 https://t.co/13G1173Zm2\n",
      "🎙🗨 ¡El equipo se repuso al gol inicial de Rabiot, con el doblete de @Cristiano y el gol de @MarceloM12! 👇\n",
      "#RMUCL\n",
      "\n",
      "https://t.co/aqA0PhcSo2\n",
      "📸 @MarceloM12 😃👉👉 Zidane \n",
      "#APorLa13 https://t.co/ph44S6k511\n",
      "📸🙌 #APorLa13\n",
      "¡Volaremos a París con ventaja en el marcador! ¡Lucharemos por el pase a cuartos de final el 6 de marz… https://t.co/Fmoaw3OWd8\n",
      "🏁 FP: #RealMadrid 3-1 @PSG_espanol\n",
      "(@Cristiano 45' (p), 83', @MarceloM12 86' ; Rabiot 33').\n",
      "\n",
      "#RMUCL | #Emirates https://t.co/bprRe6CVFU\n",
      "86' ¡GOOOOOOOOOOOOOOOOOOOOOOOOOOOOOOOL de @MarceloM12!  \n",
      "\n",
      "#RealMadrid 3-1 @PSG_espanol \n",
      "\n",
      "#RMUCL | @EASPORTSFIFA https://t.co/OEkFGmoQJX\n",
      "83' ¡GOOOOOOOOOOOOOOOOOOOOOOOOOOOOOOOL de @Cristiano!  \n",
      "\n",
      "#RealMadrid 2-1 @PSG_espanol \n",
      "\n",
      "#RMUCL | @EASPORTSFIFA https://t.co/oRtUtap9TN\n",
      "79’ Doble cambio para el #RealMadrid:\n",
      "\n",
      "@Casemiro 🔁 @Lucasvazquez91 \n",
      "@isco_alarcon 🔁  @marcoasensio10\n",
      " \n",
      "#RealMadrid… https://t.co/9YB3oF36QQ\n",
      "78' Cartulina amarilla para Nacho. \n",
      "\n",
      "#RMUCL\n",
      "68’ 🔁 Primer cambio en las filas del #RealMadrid:\n",
      "\n",
      "Se retira @Benzema y entra @GarethBale11 \n",
      "\n",
      "#RealMadrid 1-1… https://t.co/XyxMCUMnyD\n",
      "RT @realmadrid: 📱💻 #RMUCL\n",
      "Sigue al detalle el partido contra @PSG_espanol, descargando https://t.co/w82EoEpWRh o en el enlace 👇\n",
      "\n",
      "https://t.…\n",
      "2⃣⏱ #RMUCL\n",
      "¡La segunda parte ya está en marcha! \n",
      "\n",
      "👊 ¡HASTA EL FINAL, VAMOS REAL! 👊\n",
      "\n",
      "#RealMadrid 1-1 @PSG_espanol https://t.co/JoKIqFRN4b\n",
      "💯⚽ ¡Tras su gol ante el @PSG_espanol, @Cristiano suma 100 tantos en la Liga de Campeones con el #RealMadrid! ¡SIIIU… https://t.co/NNtTt1jCNN\n",
      "⏸ DC: #RealMadrid 1-1 @PSG_espanol \n",
      "(@Cristiano 45 (p); Rabiot 33').\n",
      "\n",
      "#RMUCL https://t.co/ZxCLOZBzk3\n"
     ]
    }
   ],
   "source": [
    "# Creating the API object while passing in auth information\n",
    "api = tweepy.API(auth)\n",
    "\n",
    "# The Twitter user who we want to get tweets from\n",
    "name = \"realmadrid\"\n",
    "# Number of tweets to pull\n",
    "tweetCount = 20\n",
    "\n",
    "# Calling the user_timeline function with our parameters\n",
    "results = api.user_timeline(id=name, count=tweetCount)\n",
    "\n",
    "# foreach through all tweets pulled\n",
    "for tweet in results:\n",
    "   # printing the text stored inside the tweet object\n",
    "   print tweet.text"
   ]
  },
  {
   "cell_type": "code",
   "execution_count": null,
   "metadata": {},
   "outputs": [],
   "source": []
  }
 ],
 "metadata": {
  "kernelspec": {
   "display_name": "Python 2",
   "language": "python",
   "name": "python2"
  },
  "language_info": {
   "codemirror_mode": {
    "name": "ipython",
    "version": 2
   },
   "file_extension": ".py",
   "mimetype": "text/x-python",
   "name": "python",
   "nbconvert_exporter": "python",
   "pygments_lexer": "ipython2",
   "version": "2.7.12"
  }
 },
 "nbformat": 4,
 "nbformat_minor": 2
}
